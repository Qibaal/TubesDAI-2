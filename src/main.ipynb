{
  "cells": [
    {
      "cell_type": "markdown",
      "metadata": {
        "id": "uR1JW69eLfG_"
      },
      "source": [
        "# IF3070 Foundations of Artificial Intelligence | Tugas Besar 2\n"
      ]
    },
    {
      "cell_type": "markdown",
      "metadata": {
        "id": "ucbaI5rBLtjJ"
      },
      "source": [
        "Group Number: 15\n",
        "\n",
        "Group Members:\n",
        "- Akmal Galih Aji Suseno (18222046)\n",
        "- Raizan Iqbal Resi (18222068)\n",
        "- Muhammad Kevinza Faiz (18222072)\n",
        "- Muhammad Raihan Ariffianto (18222092)"
      ]
    },
    {
      "cell_type": "markdown",
      "metadata": {
        "id": "GwzsfETHLfHA"
      },
      "source": [
        "## Import Libraries"
      ]
    },
    {
      "cell_type": "code",
      "execution_count": null,
      "metadata": {
        "id": "jZJU5W_4LfHB"
      },
      "outputs": [],
      "source": [
        "import pandas as pd\n",
        "import numpy as np\n",
        "import matplotlib.pyplot as plt\n",
        "import seaborn as sns\n",
        "import re\n",
        "import string\n",
        "\n",
        "from sklearn.model_selection import train_test_split\n",
        "from sklearn.ensemble import IsolationForest\n",
        "from sklearn.impute import SimpleImputer\n",
        "from sklearn.impute import KNNImputer\n",
        "from sklearn.decomposition import PCA\n",
        "from sklearn.model_selection import cross_val_score\n",
        "from sklearn.metrics import accuracy_score, classification_report, confusion_matrix, make_scorer, f1_score\n",
        "from sklearn.preprocessing import RobustScaler\n",
        "\n",
        "\n",
        "from sklearn.preprocessing import RobustScaler, MinMaxScaler\n",
        "\n",
        "from imblearn.over_sampling import RandomOverSampler\n",
        "from imblearn.combine import SMOTEENN\n",
        "from imblearn.over_sampling import SMOTE\n",
        "\n",
        "from typing import List\n",
        "from collections import Counter\n",
        "from sklearn.neighbors import KNeighborsClassifier\n",
        "\n",
        "from sklearn.naive_bayes import GaussianNB"
      ]
    },
    {
      "cell_type": "markdown",
      "metadata": {
        "id": "OKbjLIdYLfHC"
      },
      "source": [
        "## Import Dataset"
      ]
    },
    {
      "cell_type": "code",
      "execution_count": null,
      "metadata": {
        "id": "-IWFJ-gdLfHD"
      },
      "outputs": [],
      "source": [
        "df = pd.read_csv('https://drive.google.com/uc?id=1k2r4dh87_wvDFu2L4EMa372ZSzS0AENh') # Real\n",
        "\n",
        "continuous_columns = [col for col in df.columns if df[col].nunique() > 2]\n",
        "categorical_columns = [col for col in df.columns if df[col].nunique() <= 2]"
      ]
    },
    {
      "cell_type": "markdown",
      "metadata": {
        "id": "gvx-gT3bLfHM"
      },
      "source": [
        "# 1. Split Training Set and Validation Set\n"
      ]
    },
    {
      "cell_type": "code",
      "execution_count": null,
      "metadata": {
        "id": "4yWCUFFBLfHM"
      },
      "outputs": [],
      "source": [
        "train_set, val_set = train_test_split(df, test_size = 0.2, random_state = 42, stratify = df['label'])"
      ]
    },
    {
      "cell_type": "markdown",
      "metadata": {
        "id": "IC14lmo_LfHN"
      },
      "source": [
        "# 2. Data Cleaning and Preprocessing\n"
      ]
    },
    {
      "cell_type": "markdown",
      "metadata": {
        "id": "p95_A8hSLfHY"
      },
      "source": [
        "## A. Data Cleaning"
      ]
    },
    {
      "cell_type": "markdown",
      "metadata": {
        "id": "_wruGao9LfHZ"
      },
      "source": [
        "### I. Handling Missing Data\n"
      ]
    },
    {
      "cell_type": "markdown",
      "metadata": {
        "id": "K33qQpzI7BPf"
      },
      "source": [
        "#### Cross Filling"
      ]
    },
    {
      "cell_type": "code",
      "execution_count": null,
      "metadata": {
        "id": "DNqeUHNEM9Hh"
      },
      "outputs": [],
      "source": [
        "def process_and_fill_missing(df):\n",
        "    ret = df.copy()\n",
        "\n",
        "    # Process 'URLLength'\n",
        "    ret['URLLength'] = ret['URL'].apply(lambda url: len(url) if isinstance(url, str) else None)\n",
        "\n",
        "    # Process 'Domain' and 'DomainLength'\n",
        "    ret.loc[ret['Domain'].isna() & ret['URL'].notna(), 'Domain'] = ret['URL'].apply(\n",
        "        lambda url: re.search(r'https?://(?:www\\.)?([^/]+)', url).group(1) if isinstance(url, str) and re.search(r'https?://(?:www\\.)?([^/]+)', url) else None\n",
        "    )\n",
        "    ret['DomainLength'] = ret['Domain'].apply(lambda x: len(x) if isinstance(x, str) else None)\n",
        "\n",
        "    # Process 'TLD' and 'TLDLength'\n",
        "    ret.loc[ret['TLD'].isna() & ret['Domain'].notna(), 'TLD'] = ret['Domain'].apply(\n",
        "        lambda domain: domain.split('.')[-1] if isinstance(domain, str) else None\n",
        "    )\n",
        "    ret['TLDLength'] = ret.apply(\n",
        "        lambda row: len(row['TLD']) if pd.notna(row['TLD']) and pd.isna(row['TLDLength']) else row['TLDLength'], axis=1\n",
        "    )\n",
        "\n",
        "    # Process 'IsDomainIP'\n",
        "    def is_ip(value):\n",
        "        if pd.isna(value):\n",
        "            return False\n",
        "        ip_pattern = r'^(\\d{1,3}\\.){3}\\d{1,3}$'\n",
        "        ipv6_pattern = r'^(([0-9a-fA-F]{1,4}:){7,7}[0-9a-fA-F]{1,4}|([0-9a-fA-F]{1,4}:){1,7}:|' \\\n",
        "                       r'([0-9a-fA-F]{1,4}:){1,6}:[0-9a-fA-F]{1,4}|' \\\n",
        "                       r'([0-9a-fA-F]{1,4}:){1,5}(:[0-9a-fA-F]{1,4}){1,2}|' \\\n",
        "                       r'([0-9a-fA-F]{1,4}:){1,4}(:[0-9a-fA-F]{1,4}){1,3}|' \\\n",
        "                       r'([0-9a-fA-F]{1,4}:){1,3}(:[0-9a-fA-F]{1,4}){1,4}|' \\\n",
        "                       r'([0-9a-fA-F]{1,4}:){1,2}(:[0-9a-fA-F]{1,4}){1,5}|' \\\n",
        "                       r'[0-9a-fA-F]{1,4}:((:[0-9a-fA-F]{1,4}){1,6})|' \\\n",
        "                       r':((:[0-9a-fA-F]{1,4}){1,7}|:)|' \\\n",
        "                       r'fe80:(:[0-9a-fA-F]{0,4}){0,4}%[0-9a-zA-Z]{1,}|' \\\n",
        "                       r'::(ffff(:0{1,4}){0,1}:){0,1}' \\\n",
        "                       r'(([0-9]{1,3}\\.){3}[0-9]{1,3})|' \\\n",
        "                       r'([0-9a-fA-F]{1,4}:){1,4}:' \\\n",
        "                       r'(([0-9]{1,3}\\.){3}[0-9]{1,3}))$'\n",
        "        return bool(re.match(ip_pattern, value)) or bool(re.match(ipv6_pattern, value))\n",
        "\n",
        "    ret['IsDomainIP'] = ret.apply(\n",
        "        lambda row: True if is_ip(row['Domain']) or is_ip(row['URL']) else False, axis=1\n",
        "    )\n",
        "    def autoImputer(row):\n",
        "        if pd.notna(row['URL']):\n",
        "            url = row['URL']\n",
        "            url_length = len(url)\n",
        "            letters = sum(1 for char in url if char.isalpha())\n",
        "            digits = sum(1 for char in url if char.isdigit())\n",
        "            equals = url.count('=')\n",
        "            q_marks = url.count('?')\n",
        "            ampersands = url.count('&')\n",
        "            special_chars = sum(1 for char in url if char in string.punctuation and char not in ['=', '?', '&'])\n",
        "\n",
        "            row['NoOfLettersInURL'] = letters\n",
        "            row['LetterRatioInURL'] = letters / url_length if url_length > 0 else 0\n",
        "            row['NoOfDegitsInURL'] = digits\n",
        "            row['DegitRatioInURL'] = digits / url_length if url_length > 0 else 0\n",
        "            row['NoOfEqualsInURL'] = equals\n",
        "            row['NoOfQMarkInURL'] = q_marks\n",
        "            row['NoOfAmpersandInURL'] = ampersands\n",
        "            row['NoOfOtherSpecialCharsInURL'] = special_chars\n",
        "            row['SpacialCharRatioInURL'] = (letters + digits + special_chars) / url_length if url_length > 0 else 0\n",
        "            row['IsHTTPS'] = 1 if url.lower().startswith('https://') else 0\n",
        "        if pd.isna(row['NoOfSubDomain']):\n",
        "            if pd.notna(row['Domain']):\n",
        "                row['NoOfSubDomain'] = len(row['Domain'].split('.')) - 1\n",
        "        if row.get('HasObfuscation', 0) == 0:\n",
        "            row['NoOfObfuscatedChar'] = 0\n",
        "        elif pd.isna(row['NoOfObfuscatedChar']):\n",
        "            if pd.notna(row['URL']):\n",
        "                row['NoOfObfuscatedChar'] = row['URL'].count('%') * 3\n",
        "        if pd.isna(row['ObfuscationRatio']):\n",
        "            if pd.notna(row['NoOfObfuscatedChar']) and pd.notna(row['URLLength']):\n",
        "                row['ObfuscationRatio'] = row['NoOfObfuscatedChar'] / row['URLLength']\n",
        "        if pd.isna(row['URLTitleMatchScore']):\n",
        "            if pd.notna(row['DomainTitleMatchScore']):\n",
        "                row['URLTitleMatchScore'] = row['DomainTitleMatchScore']\n",
        "            else:\n",
        "                row['URLTitleMatchScore'] = 0\n",
        "\n",
        "        return row\n",
        "\n",
        "    ret = ret.apply(autoImputer, axis=1)\n",
        "    ret = ret.select_dtypes(exclude=['object'])\n",
        "\n",
        "    return ret\n"
      ]
    },
    {
      "cell_type": "markdown",
      "metadata": {
        "id": "VAMuDDO1TRVo"
      },
      "source": [
        "#### Imputing"
      ]
    },
    {
      "cell_type": "code",
      "execution_count": null,
      "metadata": {
        "id": "qXtZPt9r7GfK"
      },
      "outputs": [],
      "source": [
        "def impute_continuous_columns(df):\n",
        "    continuous_columns = [col for col in df.columns if df[col].nunique() > 2]\n",
        "    continuous_df = df[continuous_columns]\n",
        "\n",
        "    mode_imputer = SimpleImputer(strategy='median')\n",
        "\n",
        "    continuous_imputed = pd.DataFrame(\n",
        "        mode_imputer.fit_transform(continuous_df),\n",
        "        columns=continuous_columns\n",
        "    )\n",
        "\n",
        "    df[continuous_columns] = continuous_imputed\n",
        "\n",
        "    return df"
      ]
    },
    {
      "cell_type": "code",
      "execution_count": null,
      "metadata": {
        "id": "VZ73h0Wu7ZwW"
      },
      "outputs": [],
      "source": [
        "def impute_categorical_columns(df):\n",
        "    categorical_columns = [col for col in df.columns if df[col].nunique() == 2]\n",
        "\n",
        "    encodings = {}\n",
        "    for col in categorical_columns:\n",
        "        unique_values = df[col].dropna().unique()\n",
        "        encodings[col] = {value: idx for idx, value in enumerate(unique_values)}\n",
        "        df[col] = df[col].map(encodings[col])\n",
        "\n",
        "    knn_imputer = KNNImputer(n_neighbors=3, weights='uniform', metric='nan_euclidean')\n",
        "    categorical_imputed = pd.DataFrame(\n",
        "        knn_imputer.fit_transform(df[categorical_columns]),\n",
        "        columns=categorical_columns\n",
        "    )\n",
        "\n",
        "    categorical_imputed = categorical_imputed.round(0).astype(int)\n",
        "\n",
        "    for col in categorical_columns:\n",
        "        reverse_mapping = {v: k for k, v in encodings[col].items()}\n",
        "        categorical_imputed[col] = categorical_imputed[col].map(reverse_mapping)\n",
        "\n",
        "    df[categorical_columns] = categorical_imputed\n",
        "\n",
        "    return df"
      ]
    },
    {
      "cell_type": "code",
      "execution_count": null,
      "metadata": {
        "id": "phm1b9EBTbFa"
      },
      "outputs": [],
      "source": [
        "def imputevalues(df):\n",
        "  ret = df.copy()\n",
        "  ret = ret.select_dtypes(exclude=['object'])\n",
        "  ret = impute_continuous_columns(ret)\n",
        "  # print(\"Amount of NaN and Null values in all continuous columns:\")\n",
        "  # print(df[continuous_columns].isnull().sum())\n",
        "  ret = impute_categorical_columns(ret)\n",
        "\n",
        "  return ret"
      ]
    },
    {
      "cell_type": "markdown",
      "metadata": {
        "id": "aO0ZEZ-s6Lu-"
      },
      "source": [
        "### II. Remove Duplicates"
      ]
    },
    {
      "cell_type": "code",
      "execution_count": null,
      "metadata": {
        "id": "BHCkkZ-v7iF8"
      },
      "outputs": [],
      "source": [
        "def remove_duplicates(df):\n",
        "  temp = df.copy()\n",
        "  temp.drop_duplicates(subset=None, keep='first', inplace=True)\n",
        "  return temp"
      ]
    },
    {
      "cell_type": "markdown",
      "metadata": {
        "id": "eycPASmMLfHa"
      },
      "source": [
        "### III. Feature Engineering"
      ]
    },
    {
      "cell_type": "code",
      "execution_count": null,
      "metadata": {
        "id": "SSUl7mzxBqoJ"
      },
      "outputs": [],
      "source": [
        "def remove_features(df):\n",
        "    features_to_remove = [\n",
        "        'Robots', 'NoOfCSS', 'Pay', 'NoOfSelfRef', 'LineOfCode', 'NoOfImage', 'NoOfExternalRef', 'Bank',\n",
        "        'NoOfiFrame', 'HasPasswordField', 'TLDLegitimateProb',\n",
        "        'Crypto', 'NoOfEmptyRef', 'NoOfPopup', 'SpacialCharRatioInURL',\n",
        "        'NoOfURLRedirect', 'NoOfSubDomain', 'LargestLineLength', 'NoOfObfuscatedChar',\n",
        "        'NoOfSelfRedirect', 'TLDLength', 'ObfuscationRatio',\n",
        "        'NoOfAmpersandInURL', 'NoOfEqualsInURL', 'NoOfOtherSpecialCharsInURL',\n",
        "        'CharContinuationRate', 'HasSubmitButton', 'HasFavicon', 'DomainLength',\n",
        "        'NoOfDegitsInURL', 'NoOfLettersInURL', 'NoOfJS', 'DomainTitleMatchScore'\n",
        "    ]\n",
        "\n",
        "    # Remove features from the DataFrame\n",
        "    df = df.drop(columns=features_to_remove, axis=1)\n",
        "    return df"
      ]
    },
    {
      "cell_type": "markdown",
      "metadata": {
        "id": "xw11_49xLfHb"
      },
      "source": [
        "## B. Data Preprocessing\n"
      ]
    },
    {
      "cell_type": "markdown",
      "metadata": {
        "id": "WhCgOl4xLfHb"
      },
      "source": [
        "### I. Feature Scaling\n"
      ]
    },
    {
      "cell_type": "code",
      "execution_count": null,
      "metadata": {
        "id": "qhGnBgCCayvt"
      },
      "outputs": [],
      "source": [
        "def robustScaling(df):\n",
        "    continuous_columns = [col for col in df.columns if df[col].nunique() > 2 and col != 'id']\n",
        "    continuous_df = df[continuous_columns]\n",
        "\n",
        "    robust_scaler = RobustScaler()\n",
        "    scaled_continuous_df = robust_scaler.fit_transform(continuous_df)\n",
        "\n",
        "    df[continuous_columns] = scaled_continuous_df\n",
        "\n",
        "    return df\n"
      ]
    },
    {
      "cell_type": "markdown",
      "metadata": {
        "id": "jKQO9wtB8Pc0"
      },
      "source": [
        "### II. Handling Imbalanced Dataset\n"
      ]
    },
    {
      "cell_type": "code",
      "execution_count": null,
      "metadata": {
        "id": "7wA_ygU9gVEh"
      },
      "outputs": [],
      "source": [
        "def apply_smoteenn(df):\n",
        "    df = df.dropna(how='all')\n",
        "    X = df.drop(columns=['label'])\n",
        "    y = df['label']\n",
        "    smoteenn = SMOTEENN(random_state=42)\n",
        "    X_resampled, y_resampled = smoteenn.fit_resample(X, y)\n",
        "    df_resampled = pd.concat(\n",
        "        [pd.DataFrame(X_resampled, columns=X.columns), pd.Series(y_resampled, name='label')],\n",
        "        axis=1\n",
        "    )\n",
        "    return df_resampled"
      ]
    },
    {
      "cell_type": "markdown",
      "metadata": {
        "id": "-ctVzt5DLfHd"
      },
      "source": [
        "# 3. Compile Preprocessing Pipeline"
      ]
    },
    {
      "cell_type": "code",
      "execution_count": null,
      "metadata": {
        "id": "kgrw4PO_Uf2F"
      },
      "outputs": [],
      "source": [
        "def data_processing_pipeline(df, train: bool = True):\n",
        "    print(\"Jumlah row:\", df.shape[0])\n",
        "\n",
        "    print(\"Processing and filling missing values...\")\n",
        "    df = process_and_fill_missing(df)\n",
        "\n",
        "    print(\"Jumlah row:\", df.shape[0])\n",
        "\n",
        "    print(\"Removing specified features...\")\n",
        "    df = remove_features(df)\n",
        "\n",
        "    print(\"Jumlah row:\", df.shape[0])\n",
        "\n",
        "    print(\"Imputing values...\")\n",
        "    df = imputevalues(df)\n",
        "\n",
        "    print(\"Jumlah row:\", df.shape[0])\n",
        "\n",
        "    print(\"Removing duplicates...\")\n",
        "    df = remove_duplicates(df)\n",
        "\n",
        "    print(\"Jumlah row:\", df.shape[0])\n",
        "\n",
        "    print(\"Scaling continuous features...\")\n",
        "    df = robustScaling(df)\n",
        "\n",
        "    print(\"Jumlah row:\", df.shape[0])\n",
        "\n",
        "    if train == True:\n",
        "      print(\"Applying SMOTEENN...\")\n",
        "      df = apply_smoteenn(df)\n",
        "\n",
        "      print(\"Jumlah row:\", df.shape[0])\n",
        "\n",
        "    return df\n"
      ]
    },
    {
      "cell_type": "markdown",
      "metadata": {
        "id": "9A3adbZXLfHe"
      },
      "source": [
        "# 4. Modeling and Validation\n"
      ]
    },
    {
      "cell_type": "code",
      "execution_count": null,
      "metadata": {
        "colab": {
          "base_uri": "https://localhost:8080/"
        },
        "id": "zYuMjbhz6zc5",
        "outputId": "8222e712-2e16-4e08-8c2e-9183973d367a"
      },
      "outputs": [
        {
          "output_type": "stream",
          "name": "stdout",
          "text": [
            "Jumlah row: 112323\n",
            "Processing and filling missing values...\n",
            "Jumlah row: 112323\n",
            "Removing specified features...\n",
            "Jumlah row: 112323\n",
            "Imputing values...\n",
            "Jumlah row: 112323\n",
            "Removing duplicates...\n",
            "Jumlah row: 89867\n",
            "Scaling continuous features...\n",
            "Jumlah row: 89867\n",
            "Applying SMOTEENN...\n"
          ]
        },
        {
          "output_type": "stream",
          "name": "stderr",
          "text": [
            "/usr/local/lib/python3.10/dist-packages/sklearn/base.py:474: FutureWarning: `BaseEstimator._validate_data` is deprecated in 1.6 and will be removed in 1.7. Use `sklearn.utils.validation.validate_data` instead. This function becomes public and is part of the scikit-learn developer API.\n",
            "  warnings.warn(\n",
            "/usr/local/lib/python3.10/dist-packages/sklearn/utils/_tags.py:354: FutureWarning: The SMOTEENN or classes from which it inherits use `_get_tags` and `_more_tags`. Please define the `__sklearn_tags__` method, or inherit from `sklearn.base.BaseEstimator` and/or other appropriate mixins such as `sklearn.base.TransformerMixin`, `sklearn.base.ClassifierMixin`, `sklearn.base.RegressorMixin`, and `sklearn.base.OutlierMixin`. From scikit-learn 1.7, not defining `__sklearn_tags__` will raise an error.\n",
            "  warnings.warn(\n",
            "/usr/local/lib/python3.10/dist-packages/sklearn/base.py:474: FutureWarning: `BaseEstimator._validate_data` is deprecated in 1.6 and will be removed in 1.7. Use `sklearn.utils.validation.validate_data` instead. This function becomes public and is part of the scikit-learn developer API.\n",
            "  warnings.warn(\n",
            "/usr/local/lib/python3.10/dist-packages/sklearn/utils/_tags.py:354: FutureWarning: The SMOTE or classes from which it inherits use `_get_tags` and `_more_tags`. Please define the `__sklearn_tags__` method, or inherit from `sklearn.base.BaseEstimator` and/or other appropriate mixins such as `sklearn.base.TransformerMixin`, `sklearn.base.ClassifierMixin`, `sklearn.base.RegressorMixin`, and `sklearn.base.OutlierMixin`. From scikit-learn 1.7, not defining `__sklearn_tags__` will raise an error.\n",
            "  warnings.warn(\n",
            "/usr/local/lib/python3.10/dist-packages/sklearn/base.py:474: FutureWarning: `BaseEstimator._validate_data` is deprecated in 1.6 and will be removed in 1.7. Use `sklearn.utils.validation.validate_data` instead. This function becomes public and is part of the scikit-learn developer API.\n",
            "  warnings.warn(\n",
            "/usr/local/lib/python3.10/dist-packages/sklearn/utils/_tags.py:354: FutureWarning: The EditedNearestNeighbours or classes from which it inherits use `_get_tags` and `_more_tags`. Please define the `__sklearn_tags__` method, or inherit from `sklearn.base.BaseEstimator` and/or other appropriate mixins such as `sklearn.base.TransformerMixin`, `sklearn.base.ClassifierMixin`, `sklearn.base.RegressorMixin`, and `sklearn.base.OutlierMixin`. From scikit-learn 1.7, not defining `__sklearn_tags__` will raise an error.\n",
            "  warnings.warn(\n"
          ]
        },
        {
          "output_type": "stream",
          "name": "stdout",
          "text": [
            "Jumlah row: 89935\n"
          ]
        }
      ],
      "source": [
        "train_set_clean = data_processing_pipeline(train_set)\n",
        "X_train = train_set_clean.drop(\"label\", axis=1)\n",
        "y_train = train_set_clean[\"label\"]\n",
        "X_train.to_csv('X_train.csv', index=False)\n",
        "y_train.to_csv('y_train.csv', index=False)"
      ]
    },
    {
      "cell_type": "code",
      "execution_count": null,
      "metadata": {
        "id": "vBcLvBX9J08r"
      },
      "outputs": [],
      "source": [
        "val_set = data_processing_pipeline(val_set)\n",
        "X_val = val_set.drop(\"label\", axis=1)\n",
        "y_val = val_set[\"label\"]\n",
        "X_val.to_csv('X_val.csv', index=False)\n",
        "y_val.to_csv('y_val.csv', index=False)"
      ]
    },
    {
      "cell_type": "code",
      "execution_count": null,
      "metadata": {
        "id": "gsXqWyF9xy4I"
      },
      "outputs": [],
      "source": [
        "X_train = X_train.drop(columns=[\"id\"], axis=1)\n",
        "X_val = X_val.drop(columns=[\"id\"], axis=1)"
      ]
    },
    {
      "cell_type": "markdown",
      "metadata": {
        "id": "ZnhMNbBILfHf"
      },
      "source": [
        "## A. KNN"
      ]
    },
    {
      "cell_type": "markdown",
      "metadata": {
        "id": "WpJ8AYSvynI_"
      },
      "source": [
        "### Built In"
      ]
    },
    {
      "cell_type": "markdown",
      "metadata": {
        "id": "7VPMbFdfypAd"
      },
      "source": [
        "#### Euclidean Distance"
      ]
    },
    {
      "cell_type": "code",
      "execution_count": null,
      "metadata": {
        "colab": {
          "base_uri": "https://localhost:8080/",
          "height": 755
        },
        "id": "ynbFHibkypG7",
        "outputId": "46ebded4-a493-45eb-c475-51e44773824b"
      },
      "outputs": [
        {
          "output_type": "stream",
          "name": "stdout",
          "text": [
            "KNN Accuracy: 0.9899966655551851\n",
            "KNN Classification Report:\n",
            "              precision    recall  f1-score   support\n",
            "\n",
            "         0.0    0.98580   0.99387   0.98982      1467\n",
            "         1.0    0.99408   0.98629   0.99017      1532\n",
            "\n",
            "    accuracy                        0.99000      2999\n",
            "   macro avg    0.98994   0.99008   0.98999      2999\n",
            "weighted avg    0.99003   0.99000   0.99000      2999\n",
            "\n"
          ]
        },
        {
          "output_type": "display_data",
          "data": {
            "text/plain": [
              "<Figure size 800x600 with 1 Axes>"
            ],
            "image/png": "[encoded data removed]"
          },
          "metadata": {}
        }
      ],
      "source": [
        "knn_classifier = KNeighborsClassifier(n_neighbors=5, metric='euclidean')\n",
        "knn_classifier.fit(X_train, y_train.values.ravel())\n",
        "\n",
        "y_pred_knn = knn_classifier.predict(X_val)\n",
        "\n",
        "accuracy_knn = accuracy_score(y_val, y_pred_knn)\n",
        "print(\"KNN Accuracy:\", accuracy_knn)\n",
        "\n",
        "print(\"KNN Classification Report:\")\n",
        "print(classification_report(y_val, y_pred_knn, digits=5))\n",
        "\n",
        "plt.figure(figsize=(8, 6))\n",
        "sns.heatmap(confusion_matrix(y_val, y_pred_knn), annot=True, cmap='Blues', fmt='d', cbar=False)\n",
        "plt.title('KNN Confusion Matrix')\n",
        "plt.xlabel('Predicted Labels')\n",
        "plt.ylabel('True Labels')\n",
        "plt.show()"
      ]
    },
    {
      "cell_type": "markdown",
      "metadata": {
        "id": "MN3uX0uqypQ7"
      },
      "source": [
        "#### Manhattan Distance"
      ]
    },
    {
      "cell_type": "code",
      "execution_count": null,
      "metadata": {
        "id": "saE-mxAJypdr",
        "colab": {
          "base_uri": "https://localhost:8080/",
          "height": 755
        },
        "outputId": "4ac1368c-e5d2-4ce5-cfeb-dad23265fa5e"
      },
      "outputs": [
        {
          "output_type": "stream",
          "name": "stdout",
          "text": [
            "KNN Accuracy: 0.9913304434811604\n",
            "KNN Classification Report:\n",
            "              precision    recall  f1-score   support\n",
            "\n",
            "         0.0    0.99047   0.99182   0.99114      1467\n",
            "         1.0    0.99216   0.99086   0.99151      1532\n",
            "\n",
            "    accuracy                        0.99133      2999\n",
            "   macro avg    0.99131   0.99134   0.99133      2999\n",
            "weighted avg    0.99133   0.99133   0.99133      2999\n",
            "\n"
          ]
        },
        {
          "output_type": "display_data",
          "data": {
            "text/plain": [
              "<Figure size 800x600 with 1 Axes>"
            ],
            "image/png": "[encoded data removed]"
          },
          "metadata": {}
        }
      ],
      "source": [
        "knn_classifier_mht = KNeighborsClassifier(n_neighbors=5, metric='manhattan')\n",
        "knn_classifier_mht.fit(X_train, y_train.values.ravel())\n",
        "\n",
        "y_pred_knn = knn_classifier_mht.predict(X_val)\n",
        "\n",
        "accuracy_knn = accuracy_score(y_val, y_pred_knn)\n",
        "print(\"KNN Accuracy:\", accuracy_knn)\n",
        "\n",
        "print(\"KNN Classification Report:\")\n",
        "print(classification_report(y_val, y_pred_knn, digits=5))\n",
        "\n",
        "plt.figure(figsize=(8, 6))\n",
        "sns.heatmap(confusion_matrix(y_val, y_pred_knn), annot=True, cmap='Blues', fmt='d', cbar=False)\n",
        "plt.title('KNN Confusion Matrix')\n",
        "plt.xlabel('Predicted Labels')\n",
        "plt.ylabel('True Labels')\n",
        "plt.show()"
      ]
    },
    {
      "cell_type": "markdown",
      "metadata": {
        "id": "NP8q42CAypt4"
      },
      "source": [
        "#### Minkowski Distance"
      ]
    },
    {
      "cell_type": "code",
      "execution_count": null,
      "metadata": {
        "id": "zDFhH_Odyp0N",
        "colab": {
          "base_uri": "https://localhost:8080/",
          "height": 755
        },
        "outputId": "7c4a18dc-1ce1-4419-8ec7-6c4ec59e437b"
      },
      "outputs": [
        {
          "output_type": "stream",
          "name": "stdout",
          "text": [
            "KNN Accuracy: 0.9879959986662221\n",
            "KNN Classification Report:\n",
            "              precision    recall  f1-score   support\n",
            "\n",
            "         0.0    0.98182   0.99387   0.98780      1467\n",
            "         1.0    0.99406   0.98238   0.98818      1532\n",
            "\n",
            "    accuracy                        0.98800      2999\n",
            "   macro avg    0.98794   0.98812   0.98799      2999\n",
            "weighted avg    0.98807   0.98800   0.98800      2999\n",
            "\n"
          ]
        },
        {
          "output_type": "display_data",
          "data": {
            "text/plain": [
              "<Figure size 800x600 with 1 Axes>"
            ],
            "image/png": "[encoded data removed]"
          },
          "metadata": {}
        }
      ],
      "source": [
        "knn_classifier_mnk = KNeighborsClassifier(n_neighbors=5, metric='minkowski', p=3)\n",
        "knn_classifier_mnk.fit(X_train, y_train.values.ravel())\n",
        "\n",
        "y_pred_knn = knn_classifier_mnk.predict(X_val)\n",
        "\n",
        "accuracy_knn = accuracy_score(y_val, y_pred_knn)\n",
        "print(\"KNN Accuracy:\", accuracy_knn)\n",
        "\n",
        "print(\"KNN Classification Report:\")\n",
        "print(classification_report(y_val, y_pred_knn, digits=5))\n",
        "\n",
        "plt.figure(figsize=(8, 6))\n",
        "sns.heatmap(confusion_matrix(y_val, y_pred_knn), annot=True, cmap='Blues', fmt='d', cbar=False)\n",
        "plt.title('KNN Confusion Matrix')\n",
        "plt.xlabel('Predicted Labels')\n",
        "plt.ylabel('True Labels')\n",
        "plt.show()"
      ]
    },
    {
      "cell_type": "markdown",
      "metadata": {
        "id": "dI4oTQE9ybJq"
      },
      "source": [
        "### KNN from Scratch"
      ]
    },
    {
      "cell_type": "code",
      "execution_count": null,
      "metadata": {
        "id": "OB7mYorA8Zr_"
      },
      "outputs": [],
      "source": [
        "class KNN:\n",
        "    def __init__(self, k: int = 3, metric: str = 'euclidean', p: int = 2):\n",
        "        self.k = k\n",
        "        self.X_train = None\n",
        "        self.y_train = None\n",
        "        self.metric = metric\n",
        "        self.p = p\n",
        "\n",
        "        valid_metrics = ['euclidean', 'manhattan', 'minkowski']\n",
        "        if metric not in valid_metrics:\n",
        "            print(\"Metric not supported\")\n",
        "\n",
        "    def fit(self, X: np.ndarray, y: np.ndarray):\n",
        "        self.X_train = np.array(X, dtype=np.float64)\n",
        "        self.y_train = np.array(y)\n",
        "\n",
        "        if len(self.X_train) != len(self.y_train):\n",
        "            print(f\"X train: {len(self.X_train.shape[0])} samples, y_train: {len(self.y_train.shape[0])} samples\")\n",
        "        return self\n",
        "\n",
        "    def _get_neighbours(self, point: np.ndarray) -> List[int]:\n",
        "        distances = self._calculate_distance(point, self.X_train)\n",
        "        indices = np.arange(len(distances))\n",
        "        sorted_indices = indices[np.argsort(distances)]\n",
        "        return sorted_indices[:self.k]\n",
        "\n",
        "    def distance_to_neighbour(self, point: np.ndarray) -> int:\n",
        "        nearest_indices = self._get_neighbours(point)\n",
        "        nearest_labels = self.y_train[nearest_indices]\n",
        "        return Counter(nearest_labels).most_common(1)[0][0]\n",
        "\n",
        "    def predict(self, X: np.ndarray) -> np.ndarray:\n",
        "        return np.array([self.distance_to_neighbour(x) for x in X])\n",
        "\n",
        "    def _calculate_distance(self, point: np.ndarray, training_points: np.ndarray) -> np.ndarray:\n",
        "        if self.metric == 'euclidean':\n",
        "            point = np.array(point, dtype=np.float64).reshape(1, -1)\n",
        "            return np.sqrt(np.sum((training_points - point) ** 2, axis=1))\n",
        "\n",
        "        elif self.metric == 'manhattan':\n",
        "            point = np.array(point, dtype=np.float64).reshape(1, -1)\n",
        "            return np.sum(np.abs(training_points - point), axis=1)\n",
        "\n",
        "        elif self.metric == 'minkowski':\n",
        "            point = np.array(point, dtype=np.float64).reshape(1, -1)\n",
        "            return np.power(np.sum(np.power(np.abs(training_points - point), self.p), axis=1), 1/self.p)"
      ]
    },
    {
      "cell_type": "markdown",
      "metadata": {
        "id": "xqGBdmuG8jas"
      },
      "source": [
        "#### Euclidean Distance"
      ]
    },
    {
      "cell_type": "code",
      "execution_count": null,
      "metadata": {
        "colab": {
          "base_uri": "https://localhost:8080/",
          "height": 755
        },
        "id": "g2ppvC9pOCgD",
        "outputId": "6027758d-9c09-45de-d372-d65403d52fe6"
      },
      "outputs": [
        {
          "output_type": "stream",
          "name": "stdout",
          "text": [
            "KNN Accuracy: 0.9899966655551851\n",
            "KNN Classification Report:\n",
            "              precision    recall  f1-score   support\n",
            "\n",
            "         0.0    0.98580   0.99387   0.98982      1467\n",
            "         1.0    0.99408   0.98629   0.99017      1532\n",
            "\n",
            "    accuracy                        0.99000      2999\n",
            "   macro avg    0.98994   0.99008   0.98999      2999\n",
            "weighted avg    0.99003   0.99000   0.99000      2999\n",
            "\n"
          ]
        },
        {
          "output_type": "display_data",
          "data": {
            "text/plain": [
              "<Figure size 800x600 with 1 Axes>"
            ],
            "image/png": "[encoded data removed]"
          },
          "metadata": {}
        }
      ],
      "source": [
        "knn_euclidean = KNN(5, \"euclidean\")\n",
        "knn_euclidean.fit(X_train.to_numpy(), y_train.values.ravel())\n",
        "\n",
        "y_pred_knn = knn_euclidean.predict(X_val.to_numpy())\n",
        "\n",
        "accuracy_knn = accuracy_score(y_val, y_pred_knn)\n",
        "print(\"KNN Accuracy:\", accuracy_knn)\n",
        "\n",
        "print(\"KNN Classification Report:\")\n",
        "print(classification_report(y_val, y_pred_knn, digits=5))\n",
        "\n",
        "plt.figure(figsize=(8, 6))\n",
        "sns.heatmap(confusion_matrix(y_val, y_pred_knn), annot=True, cmap='Blues', fmt='d', cbar=False)\n",
        "plt.title('KNN Confusion Matrix')\n",
        "plt.xlabel('Predicted Labels')\n",
        "plt.ylabel('True Labels')\n",
        "plt.show()"
      ]
    },
    {
      "cell_type": "markdown",
      "metadata": {
        "id": "2PhAWFD58l-1"
      },
      "source": [
        "#### Manhattan Distance"
      ]
    },
    {
      "cell_type": "code",
      "execution_count": null,
      "metadata": {
        "colab": {
          "base_uri": "https://localhost:8080/",
          "height": 755
        },
        "id": "1ci61KWH8mDm",
        "outputId": "ee5119ff-ec35-47b5-d018-5ff0473e2093"
      },
      "outputs": [
        {
          "output_type": "stream",
          "name": "stdout",
          "text": [
            "KNN Accuracy: 0.9913304434811604\n",
            "KNN Classification Report:\n",
            "              precision    recall  f1-score   support\n",
            "\n",
            "         0.0    0.99047   0.99182   0.99114      1467\n",
            "         1.0    0.99216   0.99086   0.99151      1532\n",
            "\n",
            "    accuracy                        0.99133      2999\n",
            "   macro avg    0.99131   0.99134   0.99133      2999\n",
            "weighted avg    0.99133   0.99133   0.99133      2999\n",
            "\n"
          ]
        },
        {
          "output_type": "display_data",
          "data": {
            "text/plain": [
              "<Figure size 800x600 with 1 Axes>"
            ],
            "image/png": "[encoded data removed]"
          },
          "metadata": {}
        }
      ],
      "source": [
        "knn_euclidean = KNN(5, \"manhattan\")\n",
        "knn_euclidean.fit(X_train.to_numpy(), y_train.values.ravel())\n",
        "\n",
        "y_pred_knn = knn_euclidean.predict(X_val.to_numpy())\n",
        "\n",
        "accuracy_knn = accuracy_score(y_val, y_pred_knn)\n",
        "print(\"KNN Accuracy:\", accuracy_knn)\n",
        "\n",
        "print(\"KNN Classification Report:\")\n",
        "print(classification_report(y_val, y_pred_knn, digits=5))\n",
        "\n",
        "plt.figure(figsize=(8, 6))\n",
        "sns.heatmap(confusion_matrix(y_val, y_pred_knn), annot=True, cmap='Blues', fmt='d', cbar=False)\n",
        "plt.title('KNN Confusion Matrix')\n",
        "plt.xlabel('Predicted Labels')\n",
        "plt.ylabel('True Labels')\n",
        "plt.show()"
      ]
    },
    {
      "cell_type": "markdown",
      "metadata": {
        "id": "9QqGT2Tw8qnJ"
      },
      "source": [
        "#### Minkowski Distance"
      ]
    },
    {
      "cell_type": "code",
      "execution_count": null,
      "metadata": {
        "colab": {
          "base_uri": "https://localhost:8080/",
          "height": 755
        },
        "id": "brT5oFcC8qr2",
        "outputId": "8f3d0c95-e410-4ee7-9d0e-70ac111fa0d9"
      },
      "outputs": [
        {
          "output_type": "stream",
          "name": "stdout",
          "text": [
            "KNN Accuracy: 0.9879959986662221\n",
            "KNN Classification Report:\n",
            "              precision    recall  f1-score   support\n",
            "\n",
            "         0.0    0.98182   0.99387   0.98780      1467\n",
            "         1.0    0.99406   0.98238   0.98818      1532\n",
            "\n",
            "    accuracy                        0.98800      2999\n",
            "   macro avg    0.98794   0.98812   0.98799      2999\n",
            "weighted avg    0.98807   0.98800   0.98800      2999\n",
            "\n"
          ]
        },
        {
          "output_type": "display_data",
          "data": {
            "text/plain": [
              "<Figure size 800x600 with 1 Axes>"
            ],
            "image/png": "[encoded data removed]"
          },
          "metadata": {}
        }
      ],
      "source": [
        "knn_euclidean = KNN(5, \"minkowski\", 3)\n",
        "knn_euclidean.fit(X_train.to_numpy(), y_train.values.ravel())\n",
        "\n",
        "y_pred_knn = knn_euclidean.predict(X_val.to_numpy())\n",
        "\n",
        "accuracy_knn = accuracy_score(y_val, y_pred_knn)\n",
        "print(\"KNN Accuracy:\", accuracy_knn)\n",
        "\n",
        "print(\"KNN Classification Report:\")\n",
        "print(classification_report(y_val, y_pred_knn, digits=5))\n",
        "\n",
        "plt.figure(figsize=(8, 6))\n",
        "sns.heatmap(confusion_matrix(y_val, y_pred_knn), annot=True, cmap='Blues', fmt='d', cbar=False)\n",
        "plt.title('KNN Confusion Matrix')\n",
        "plt.xlabel('Predicted Labels')\n",
        "plt.ylabel('True Labels')\n",
        "plt.show()"
      ]
    },
    {
      "cell_type": "markdown",
      "metadata": {
        "id": "nW0bMzkDLfHf"
      },
      "source": [
        "## B. Naive Bayes"
      ]
    },
    {
      "cell_type": "markdown",
      "source": [
        "#### Built In"
      ],
      "metadata": {
        "id": "xYU94xghscxf"
      }
    },
    {
      "cell_type": "code",
      "source": [
        "gnb = GaussianNB()\n",
        "gnb.fit(X_train, y_train)\n",
        "\n",
        "y_pred = gnb.predict(X_val)\n",
        "\n",
        "print(\"Accuracy:\", accuracy_score(y_val, y_pred))\n",
        "print(classification_report(y_val, y_pred, digits=5))"
      ],
      "metadata": {
        "colab": {
          "base_uri": "https://localhost:8080/"
        },
        "id": "L1QPmT-1scJQ",
        "outputId": "6a679ea7-e241-4164-ea47-36e9bda4fe4f"
      },
      "execution_count": null,
      "outputs": [
        {
          "output_type": "stream",
          "name": "stdout",
          "text": [
            "Accuracy: 0.9556518839613204\n",
            "              precision    recall  f1-score   support\n",
            "\n",
            "         0.0    0.99925   0.91002   0.95255      1467\n",
            "         1.0    0.92063   0.99935   0.95837      1532\n",
            "\n",
            "    accuracy                        0.95565      2999\n",
            "   macro avg    0.95994   0.95468   0.95546      2999\n",
            "weighted avg    0.95909   0.95565   0.95552      2999\n",
            "\n"
          ]
        }
      ]
    },
    {
      "cell_type": "markdown",
      "source": [
        "#### GNB from Scratch"
      ],
      "metadata": {
        "id": "yf_Zi1Xlsf2k"
      }
    },
    {
      "cell_type": "code",
      "execution_count": null,
      "metadata": {
        "id": "C_XwsN_-LfHg"
      },
      "outputs": [],
      "source": [
        "class GaussianNaiveBayes:\n",
        "    def fit(self, X, y):\n",
        "        X = np.array(X, dtype=float)\n",
        "        y = np.array(y)\n",
        "\n",
        "        self.classes = np.unique(y)\n",
        "        self.parameters = {}\n",
        "\n",
        "        for cls in self.classes:\n",
        "            X_cls = X[y == cls]\n",
        "            self.parameters[cls] = {\n",
        "                'mean': X_cls.mean(axis=0),\n",
        "                'var': X_cls.var(axis=0) + 1e-6,\n",
        "                'prior': len(X_cls) / len(X)\n",
        "            }\n",
        "\n",
        "    def prob(self, x, mean, var):\n",
        "        return (1 / np.sqrt(2 * np.pi * var)) * np.exp(-(x - mean) ** 2 / (2 * var))\n",
        "\n",
        "    def predict(self, X):\n",
        "        X = np.array(X, dtype=float)\n",
        "\n",
        "        y_pred = []\n",
        "        for x in X:\n",
        "            posteriors = []\n",
        "            for cls in self.classes:\n",
        "                params = self.parameters[cls]\n",
        "                posterior = np.log(params['prior']) + np.sum(np.log(self.prob(x, params['mean'], params['var'])))\n",
        "                posteriors.append(posterior)\n",
        "            y_pred.append(self.classes[np.argmax(posteriors)])\n",
        "        return np.array(y_pred)"
      ]
    },
    {
      "cell_type": "code",
      "execution_count": null,
      "metadata": {
        "id": "aU6RB3hlUsa-",
        "colab": {
          "base_uri": "https://localhost:8080/"
        },
        "outputId": "32d58d04-2284-4b3a-dc45-3a50e16abc14"
      },
      "outputs": [
        {
          "output_type": "stream",
          "name": "stdout",
          "text": [
            "Accuracy: 0.9593197732577526\n",
            "\n",
            "Classification Report:\n",
            "\n",
            "              precision    recall  f1-score   support\n",
            "\n",
            "         0.0    0.99926   0.91752   0.95665      1467\n",
            "         1.0    0.92676   0.99935   0.96168      1532\n",
            "\n",
            "    accuracy                        0.95932      2999\n",
            "   macro avg    0.96301   0.95843   0.95916      2999\n",
            "weighted avg    0.96222   0.95932   0.95922      2999\n",
            "\n"
          ]
        },
        {
          "output_type": "stream",
          "name": "stderr",
          "text": [
            "<ipython-input-72-6e5036b51ecb>:29: RuntimeWarning: divide by zero encountered in log\n",
            "  conditional = np.sum(np.log(self.prob(x, params['mean'], params['var'])))\n"
          ]
        }
      ],
      "source": [
        "gnb = GaussianNaiveBayes()\n",
        "gnb.fit(X_train, y_train)\n",
        "\n",
        "y_pred = gnb.predict(X_val)\n",
        "\n",
        "print(\"Accuracy:\", accuracy_score(y_val, y_pred))\n",
        "print(\"\\nClassification Report:\\n\")\n",
        "print(classification_report(y_val, y_pred, digits=5))"
      ]
    },
    {
      "cell_type": "markdown",
      "metadata": {
        "id": "Li4l53DjLfHh"
      },
      "source": [
        "## D. Submission\n"
      ]
    },
    {
      "cell_type": "code",
      "execution_count": null,
      "metadata": {
        "id": "LeqnfWc-LfHi"
      },
      "outputs": [],
      "source": [
        "# test = pd.read_csv('https://drive.google.com/uc?id=1Jk7SrEuVXty_3UldvFU3CtrOziAJA4uu')\n",
        "test = pd.read_csv('test.csv')"
      ]
    },
    {
      "cell_type": "code",
      "execution_count": null,
      "metadata": {
        "id": "rjyEt5KIx44z"
      },
      "outputs": [],
      "source": [
        "test = data_processing_pipeline(test, False)\n",
        "\n",
        "# pred_test = test.drop(columns=[\"id\"], axis=1)\n",
        "\n",
        "knn_classifier = KNeighborsClassifier(n_neighbors=5, metric='euclidean')\n",
        "knn_classifier.fit(X_train, y_train.values.ravel())\n",
        "\n",
        "submission = knn_classifier.predict(pred_test)\n",
        "\n",
        "submission_df = pd.DataFrame({\n",
        "    'id': test['id'].astype(int),\n",
        "    'label': submission.astype(int)\n",
        "})\n",
        "\n",
        "submission_df = submission_df.set_index('id')\n",
        "\n",
        "submission_df.to_csv(\"submission_df.csv\")"
      ]
    },
    {
      "cell_type": "markdown",
      "metadata": {
        "id": "R-jXvKOpLfHi"
      },
      "source": [
        "# 6. Error Analysis\n"
      ]
    },
    {
      "cell_type": "markdown",
      "metadata": {
        "id": "tWL3nEAELfHj"
      },
      "source": [
        "# **KNN Error Analysis**\n",
        "\n",
        "Here are the performance gaps grouped by distance metric between our KNN machine and Scikit-learn’s implementation:\n",
        "1. Minkowski Distance\n",
        "\t-\tMacro Average F1-Score Gap: -0.203%\n",
        "2. Manhattan Distance\n",
        "\t-\tMacro Average F1-Score Gap: -0.009%\n",
        "3. Euclidean Distance\n",
        "\t-\tMacro Average F1-Score Gap: -0.057%\n",
        "\n",
        "Observations:\n",
        "1.\tManhattan Distance shows the smallest overall gaps, indicating it aligns closely with Scikit-learn’s results.\n",
        "2.\tMinkowski Distance has the largest gaps, particularly in recall for Class 1 and F1-scores, suggesting possible implementation-specific differences.\n",
        "3.\tEuclidean Distance falls in the middle, with relatively small gaps but slight issues with Class 0 precision and Class 1 recall.\n",
        "\n",
        "\n",
        "The gaps might be occured because some factors:\n",
        "1. Numerical Precision:\n",
        "\n",
        "  Scikit-learn uses optimized numerical libraries (e.g., Cython, NumPy) with high precision for distance calculations. Small rounding errors in distance metrics (especially in Minkowski or Euclidean) can change neighbor rankings. Therefore, Small variations in distances can cause slightly different neighbor selection, affecting precision, recall, and F1-score for certain classes.\n",
        "\n",
        "2. KD-Tree Efficienciness\n",
        "\n",
        "  Even both our implementations and Scikit-learn use KD-Trees, Scikit-learn’s KD-Tree is heavily optimized for\n",
        "  - Balanced splits: Ensuring better neighbor search efficiency.\n",
        "  - Edge-case handling: Managing tie distances, near-boundary points, or points equidistant from multiple neighbors.\n",
        "\n",
        "  Particularly noticeable in metrics like recall and F1-score where false positives/negatives play a significant role.\n",
        "\n",
        "3. Distance in metric implementation:\n",
        "\n",
        "  Minkowski (p=3) is more complex and sensitive to numerical precision due to its cubic power. Even small differences in computation (e.g., library vs. custom power functions) can cause neighbor mismatches. This is why, Minkowski shows the largest gaps, particularly for Class 1 recall and macro-average F1-scores.\n",
        "\n",
        "4. Parallelization and Efficiency\n",
        "\n",
        "  Scikit-learn uses parallelized operations for KD-Tree queries, distance calculations, and prediction voting. On the other side, our implementation rely on sequential processing, which introduces slight inefficiencies and delays in updating predictions. So, the runtime gaps are more obvious, even tiny delays in neighbor selection or querying can propagate into metric discrepancies.\n",
        "\n",
        "\n",
        "# **Gaussian Naive Bayes Error Analysis**\n",
        "Here are the performance gaps grouped by distance metric between our Gaussian Naive Bayes machine and Scikit-learn’s implementation:\n",
        "\n",
        "Class 0:\n",
        "  - F1-Score Gap: -0.430%\n",
        "\n",
        "Class 1:\n",
        "  - F1-Score Gap: -0.345%\n",
        "\n",
        "Macro Average:\n",
        "  - F1-Score Gap: -0.384%\n",
        "\n",
        "Weighted Average:\n",
        "  - F1-Score Gap: -0.398%\n",
        "\n",
        "Accuracy: -0.384%\n",
        "\n",
        "Observations:\n",
        "1. The largest gap is in Class 1 precision (-0.666%), likely due to differences in false positive handling.\n",
        "2. Recall for Class 1 matches perfectly, indicating robust identification of true positives.\n",
        "3. Class 0 recall is slightly worse (-0.824%), which affects both the class-specific and overall performance metrics.\n",
        "\n",
        "Possible Reasons:\n",
        "1. Numerical Precision:\n",
        "\n",
        "  Scikit-learn likely handles numerical stability (e.g., log(0) or small variances) better, while your implementation might encounter issues, especially with extreme probabilities.\n",
        "2. Smoothing:\n",
        "\n",
        "  Scikit-learn applies Laplace smoothing, which could reduce false positives for Class 1.\n",
        "3. Edge Case Handling:\n",
        "\n",
        "  Runtime warnings (e.g., divide by zero) in your implementation suggest potential issues in extreme cases (e.g., zero variance or missing features).\n",
        "\n",
        "# Conclusion\n",
        "Both models show minor gaps compared to Scikit-learn’s implementations, primarily due to:\n",
        "- Differences in numerical precision and optimizations.\n",
        "- Handling of edge cases (e.g., ties in KNN, smoothing in GNB).\n",
        "- Slight inefficiencies in implementation logic.\n",
        "\n",
        "Despite these gaps, our models can be considered pretty competitive, with the GNB being closer to Scikit-learn’s performance.\n"
      ]
    },
    {
      "cell_type": "code",
      "source": [],
      "metadata": {
        "id": "e22YYOylkThH"
      },
      "execution_count": null,
      "outputs": []
    }
  ],
  "metadata": {
    "colab": {
      "collapsed_sections": [
        "K33qQpzI7BPf",
        "VAMuDDO1TRVo"
      ],
      "provenance": [],
      "toc_visible": true
    },
    "kernelspec": {
      "display_name": "Python 3",
      "language": "python",
      "name": "python3"
    },
    "language_info": {
      "codemirror_mode": {
        "name": "ipython",
        "version": 3
      },
      "file_extension": ".py",
      "mimetype": "text/x-python",
      "name": "python",
      "nbconvert_exporter": "python",
      "pygments_lexer": "ipython3",
      "version": "3.12.8"
    }
  },
  "nbformat": 4,
  "nbformat_minor": 0
}